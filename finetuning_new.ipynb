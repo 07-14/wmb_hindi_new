{
 "cells": [
  {
   "cell_type": "markdown",
   "metadata": {
    "colab_type": "text",
    "id": "duPhpC7UYvOb"
   },
   "source": [
    "#**Setup**\n",
    "\n",
    "---\n",
    "\n"
   ]
  },
  {
   "cell_type": "code",
   "execution_count": null,
   "metadata": {
    "colab": {},
    "colab_type": "code",
    "id": "08KZUbQnhKwE"
   },
   "outputs": [],
   "source": [
    "\n",
    "!git clone https://github.com/ai4bharat/indic-bert\n",
    "%cd indic-bert\n",
    "!pip3 install -r requirements.txt\n",
    "%cd ..\n",
    "!mkdir indic-glue outputs"
   ]
  },
  {
   "cell_type": "markdown",
   "metadata": {
    "colab_type": "text",
    "id": "u4TbQgpAYrSL"
   },
   "source": [
    "#**Download Datasets**\n",
    "---\n"
   ]
  },
  {
   "cell_type": "markdown",
   "metadata": {
    "colab": {},
    "colab_type": "code",
    "id": "B8Te43TtV9OV"
   },
   "source": [
    "\n",
    "% cd indic-glue\n",
    "# Download the dataset -- insert link obtained from https://indicnlp.ai4bharat.org/indic-glue/#downloads\n",
    "!wget https://storage.googleapis.com/ai4bharat-public-indic-nlp-corpora/evaluations/wiki-cloze.tar.gz\n",
    "!tar -xaf wiki-cloze.tar.gz\n",
    "% cd ..\n"
   ]
  },
  {
   "cell_type": "markdown",
   "metadata": {
    "colab_type": "text",
    "id": "cAs6r-QSUosR"
   },
   "source": [
    "#**Fine-tune the Model**\n",
    "---\n",
    "\n"
   ]
  },
  {
   "cell_type": "code",
   "execution_count": null,
   "metadata": {
    "colab": {},
    "colab_type": "code",
    "id": "vUCIjREpQFhv"
   },
   "outputs": [],
   "source": [
    "\n",
    "%cd indic-bert\n",
    "\n",
    "import os\n",
    "\n",
    "from fine_tune.cli import main as finetune_main\n",
    "\n",
    "argvec = ['--lang', 'gu',\n",
    "          '--dataset', 'wiki-cloze', # use the right dataset key, check https://github.com/AI4Bharat/indic-bert/blob/master/fine_tune/cli.py#L10\n",
    "          '--model', 'ai4bharat/indic-bert',\n",
    "          '--iglue_dir', './dataset',\n",
    "          '--output_dir', './output_dir',\n",
    "          '--max_seq_length', '128',\n",
    "          '--learning_rate', '2e-5',\n",
    "          '--num_train_epochs', '3',\n",
    "          '--train_batch_size', '32'\n",
    "]\n",
    "\n",
    "finetune_main(argvec)"
   ]
  },
  {
   "cell_type": "markdown",
   "metadata": {
    "colab_type": "text",
    "id": "zUh3Vw7SUwMW"
   },
   "source": [
    "#**Check the Results**\n",
    "---"
   ]
  },
  {
   "cell_type": "code",
   "execution_count": null,
   "metadata": {
    "colab": {},
    "colab_type": "code",
    "id": "Ic0Qpfl-U0Xw"
   },
   "outputs": [],
   "source": [
    "!cat /content/outputs/wiki-cloze/gu-gu/model-ai4bharat-indic-bert/test_results.txt"
   ]
  }
 ],
 "metadata": {
  "accelerator": "GPU",
  "colab": {
   "collapsed_sections": [],
   "name": "finetuning.ipynb",
   "provenance": []
  },
  "kernelspec": {
   "display_name": "Python 3",
   "language": "python",
   "name": "python3"
  },
  "language_info": {
   "codemirror_mode": {
    "name": "ipython",
    "version": 3
   },
   "file_extension": ".py",
   "mimetype": "text/x-python",
   "name": "python",
   "nbconvert_exporter": "python",
   "pygments_lexer": "ipython3",
   "version": "3.7.4"
  }
 },
 "nbformat": 4,
 "nbformat_minor": 1
}
